{
 "cells": [
  {
   "cell_type": "raw",
   "metadata": {},
   "source": [
    "22/11/2019\n",
    "\n",
    "The code here is close to Nielsen. Each activation is threated as a column vector, even the last one which for XOR is just a simple number would be encloded in a (1,1) column vector of just one row.\n",
    "\n",
    "Can easily adapt code here for the MLP excercises and the irish classification problem.\n",
    "But you may need to use more than 2 hidden neurons."
   ]
  },
  {
   "cell_type": "code",
   "execution_count": 9,
   "metadata": {
    "pycharm": {
     "is_executing": false
    }
   },
   "outputs": [],
   "source": [
    "import numpy as np\n",
    "import matplotlib.pyplot as plt\n",
    "from sklearn.datasets import load_iris\n",
    "import pandas as pd"
   ]
  },
  {
   "cell_type": "code",
   "execution_count": 10,
   "metadata": {
    "pycharm": {
     "is_executing": false
    }
   },
   "outputs": [],
   "source": [
    "def sigm(z):\n",
    "    return  1.0/(1.0 + np.exp(-z))\n",
    "\n",
    "def sigm_deriv(z):\n",
    "    return sigm(z)*(1.0 - sigm(z))"
   ]
  },
  {
   "cell_type": "code",
   "execution_count": 11,
   "metadata": {
    "pycharm": {
     "is_executing": false
    }
   },
   "outputs": [],
   "source": [
    "class MultyLayerNetwork:\n",
    "    def __init__(self,linput,lhidden,loutput,training_inputs,training_outputs):\n",
    "        \"\"\"\n",
    "        \n",
    "        :param linput: number of inputs\n",
    "        :param lhidden: number of hidden layer\n",
    "        :param loutput: number of outputs\n",
    "        :param training_inputs: value of training inputs\n",
    "        :param training_outputs: value of training outputs\n",
    "        \"\"\"\n",
    "        self.linput = linput\n",
    "        self.lhidden = lhidden\n",
    "        self.loutput = loutput\n",
    "        \n",
    "        self.train_inputs = training_inputs\n",
    "        self.train_outputs = training_outputs\n",
    "          \n",
    "        np.random.seed(23)\n",
    "        # hidden layer of 2 neurons\n",
    "        self.w_input_to_hidden = np.random.randn(lhidden,linput)# (2,2) matrix of 2 hidden and 2 inputs\n",
    "        self.bias_hidden = np.random.randn(lhidden,1)# (2,1) 2 hidden 1 bias\n",
    "        \n",
    "        # output layer has 1 neuron\n",
    "        self.w_hidden_to_output = np.random.randn(loutput,lhidden)#(1,2) 1 output, 2 hidden\n",
    "        self.bias_output = np.random.randn(loutput,1)# (1,1) 1 output 1 bias\n",
    "        \n",
    "\n",
    "    def feedforward(self, input_data_set):    \n",
    "        # here xs is a matrix where each column is an input vector\n",
    "        # w2.dot(xs) applies the weight matrix w2 to each input at once\n",
    "        a2s = sigm(self.w_input_to_hidden.dot(input_data_set) + self.bias_hidden)#output hidden\n",
    "        a3s = sigm(self.w_hidden_to_output.dot(a2s) + self.bias_output)#output of output\n",
    "        return a3s\n",
    "\n",
    "    \n",
    "    def backprop(self, input_data_set, output_data_set):\n",
    "        del_w_input_hidden = np.zeros(self.w_input_to_hidden.shape, dtype=float)\n",
    "        del_bias_hidden = np.zeros(self.bias_hidden.shape, dtype=float)\n",
    "        \n",
    "        del_w_hidden_output = np.zeros(self.w_hidden_to_output.shape, dtype=float)\n",
    "        del_bias_output = np.zeros(self.bias_output.shape, dtype=float)\n",
    "        cost = 0.0\n",
    "        \n",
    "        for single_input,single_output in zip(input_data_set,output_data_set):    #xs=input data set \\\\ ys=output data set \\\\x= input expected \\\\ y=output     \n",
    "            a1 = single_input.reshape(self.linput,1)  # convert input vector x into (2,1) column vector\n",
    "            single_output = single_output.reshape(self.loutput,1)\n",
    "            \n",
    "            #feedforward - input signal\n",
    "            z2 = self.w_input_to_hidden.dot(a1) + self.bias_hidden   # so will z2 and a2 \n",
    "            a2 = sigm(z2)                    # column vector shape (2,1)\n",
    "            \n",
    "            z3 = self.w_hidden_to_output.dot(a2) + self.bias_output   # a simple number in a (1,1) column vector\n",
    "            a3 = sigm(z3)                    # so is a3\n",
    "            #/////\n",
    "            \n",
    "            #calculate the error from output to hidden\n",
    "            error_output_hidden= (a3-single_output) #* sigm_deriv(z3)  #comment only for cross entropy                # delta3.shape is (1,1)\n",
    "           \n",
    "           #error from hidden to input\n",
    "            error_hidden_input = sigm_deriv(z2) * (self.w_hidden_to_output.T.dot(error_output_hidden))  # w3 shape is (1,2), w3.T shape is (2,1)\n",
    "                                                               # delta2 is shape (2,1)\n",
    "            \n",
    "            #summing up the error terms for each input\n",
    "            del_bias_output += error_output_hidden\n",
    "            del_w_hidden_output += error_output_hidden.dot(a2.T)  # shape (1,1) by (1,2) gives (1,2)\n",
    "            \n",
    "            del_bias_hidden += error_hidden_input\n",
    "            del_w_input_hidden += error_hidden_input.dot(a1.T)  # shape (2,1) by (1,2) gives (2,2)\n",
    "            #///////\n",
    "           \n",
    "           \n",
    "            #cost += ((a3 - single_output)**2).sum() #distance from target \n",
    "            cost += -np.sum(single_output * np.log(a3) +  (1 - single_output) * np.log(1-a3)) #cross entropy function\n",
    "        \n",
    "        n = len(output_data_set)  # number of training vectors           \n",
    "        # get the average change per training input  \n",
    "        return del_bias_hidden/n, del_w_input_hidden/n, del_bias_output/n, del_w_hidden_output/n, cost/n\n",
    "        \n",
    "    def train(self, epochs, eta):\n",
    "        input_data_set = self.train_inputs\n",
    "        output_data_set = self.train_outputs\n",
    "        cost = np.zeros((epochs,))\n",
    "        \n",
    "        for i in range(epochs):\n",
    "            d_b2,d_w2,d_b3,d_w3, cost[i] = self.backprop(input_data_set,output_data_set)\n",
    "                \n",
    "            #eta=learning rate\n",
    "            self.bias_hidden -= eta * d_b2\n",
    "            self.w_input_to_hidden -= eta * d_w2\n",
    "            self.bias_output -= eta * d_b3\n",
    "            self.w_hidden_to_output -= eta * d_w3\n",
    "        plt.plot(cost)\n",
    "        return cost\n",
    "                \n",
    "                \n",
    "    def predict_single(self, data_input):\n",
    "        data_input = self.feedforward(data_input)\n",
    "        \n",
    "        if data_input > 0.5:\n",
    "            return 1\n",
    "        else:\n",
    "            return 0\n",
    "        \n",
    "    #for array output\n",
    "    def predict_multiple(self, data_input):\n",
    "        data_input = self.feedforward(data_input)\n",
    "        \n",
    "        result = list()\n",
    "        for i in data_input:\n",
    "            if i > 0.95:\n",
    "                result.append(1)\n",
    "            else:\n",
    "                result.append(0)\n",
    "                \n",
    "        return result\n",
    "    "
   ]
  },
  {
   "cell_type": "code",
   "execution_count": 12,
   "metadata": {
    "pycharm": {
     "is_executing": false
    }
   },
   "outputs": [
    {
     "name": "stdout",
     "text": [
      "[[0.4321933  0.52195082 0.43163385 0.51250656]]\n",
      "[[3.83580806e-04 9.99076713e-01 9.99950344e-01 4.03867154e-04]]\n",
      "1\n"
     ],
     "output_type": "stream"
    },
    {
     "data": {
      "text/plain": "<Figure size 432x288 with 1 Axes>",
      "image/png": "[encoded data removed]"
     },
     "metadata": {
      "needs_background": "light"
     },
     "output_type": "display_data"
    }
   ],
   "source": [
    "#problem1 /////\n",
    "\n",
    "epochs = 2000\n",
    "predict = np.array([[1],[0],[1]])\n",
    "input_data = np.array([[0,0,1], [0,1,1], [1,0,1], [1,1,1]])\n",
    "output_data = np.array([0,1,1,0])\n",
    "problem1 = MultyLayerNetwork(3,4,1, input_data, output_data)\n",
    "\n",
    "print(problem1.feedforward(input_data.T))\n",
    "\n",
    "problem1.train(epochs,11.0)\n",
    "print(problem1.feedforward(input_data.T))\n",
    "\n",
    "print(problem1.predict_single(predict))"
   ]
  },
  {
   "cell_type": "code",
   "execution_count": 13,
   "metadata": {
    "pycharm": {
     "is_executing": false
    }
   },
   "outputs": [
    {
     "name": "stdout",
     "text": [
      "[[0.69481429 0.39721755 0.61183155 0.43512822 0.70867341 0.39502169\n",
      "  0.62080902]\n",
      " [0.57757259 0.64560394 0.3358959  0.34234498 0.51211607 0.53193904\n",
      "  0.56013564]]\n",
      "[[9.99907483e-01 6.94521300e-04 9.99999434e-01 9.99939309e-01\n",
      "  9.99933187e-01 9.99274505e-01 9.99955953e-01]\n",
      " [6.33263682e-04 9.99982448e-01 9.99832048e-01 4.24431747e-04\n",
      "  2.82891271e-04 9.99378566e-01 9.99778126e-01]]\n",
      "[1, 0]\n"
     ],
     "output_type": "stream"
    },
    {
     "data": {
      "text/plain": "<Figure size 432x288 with 1 Axes>",
      "image/png": "[encoded data removed]"
     },
     "metadata": {
      "needs_background": "light"
     },
     "output_type": "display_data"
    }
   ],
   "source": [
    "#problem2 /////\n",
    "\n",
    "epochs = 2000\n",
    "predict = np.array([[1],[1],[0]])\n",
    "input_data = np.array([[1,1,0], [1,-1,-1], [-1,1,1], [-1,-1,1], [0,1,-1], [0,-1,-1], [1,1,1]])\n",
    "output_data = np.array([[1,0], [0,1], [1,1], [1,0], [1,0], [1,1], [1,1]])\n",
    "problem2 = MultyLayerNetwork(3,4,2, input_data, output_data)\n",
    "\n",
    "print(problem2.feedforward(input_data.T))\n",
    "\n",
    "problem2.train(epochs,11.0)\n",
    "print(problem2.feedforward(input_data.T))\n",
    "\n",
    "print(problem2.predict_multiple(predict))\n"
   ]
  },
  {
   "cell_type": "code",
   "execution_count": 20,
   "outputs": [
    {
     "name": "stdout",
     "text": [
      "female that owns 1 car, willing to pay cheap travel cost and has medium income level : Recommended transport is train \n",
      "\n"
     ],
     "output_type": "stream"
    },
    {
     "data": {
      "text/plain": "<Figure size 432x288 with 1 Axes>",
      "image/png": "[encoded data removed]"
     },
     "metadata": {
      "needs_background": "light"
     },
     "output_type": "display_data"
    }
   ],
   "source": [
    "#problem3 /////\n",
    "\n",
    "epochs = 2000\n",
    "predict = np.array([[1], [1], [0], [1]])\n",
    "input_data = np.array([[0,0,0,0], [0,1,0,1], [1,1,0,1], [1,0,0,0], [0,1,0,1], [0,0,1,1], [1,1,1,1], [1,1,2,2], [0,2,2,1], [1,2,2,2]])\n",
    "output_data = np.array([[0,1,0], [0,1,0], [0,0,1], [0,1,0], [0,1,0], [0,0,1], [0,0,1], [1,0,0], [1,0,0], [1,0,0]])\n",
    "problem3 = MultyLayerNetwork(4,4,3, input_data, output_data)\n",
    "\n",
    "problem3.train(epochs,11.0)\n",
    "\n",
    "rtransport = problem3.predict_multiple(predict)\n",
    "\n",
    "\n",
    "gender = \"\"\n",
    "carOwnership = \"\"\n",
    "travelCost = \"\"\n",
    "incomeLevel = \"\"\n",
    "transport = \"\"\n",
    "\n",
    "if predict[0][0] == 1:\n",
    "    gender = \"female\"\n",
    "else:\n",
    "    gender = \"male\"\n",
    "    \n",
    "if predict[1][0] == 0:\n",
    "    carOwnership = \"no car\"\n",
    "elif predict[1][0] == 1:\n",
    "    carOwnership = \"1 car\"\n",
    "elif predict[1][0] == 2:\n",
    "    carOwnership = \"2 cars\"\n",
    "    \n",
    "if predict[2][0] == 0:\n",
    "    travelCost = \"cheap\"\n",
    "elif predict[2][0] == 1:\n",
    "    travelCost = \"standard\"\n",
    "elif predict[2][0] == 2:\n",
    "    travelCost = \"expensive\"   \n",
    "\n",
    "if predict[3][0] == 0:\n",
    "    incomeLevel = \"low\"\n",
    "elif predict[3][0] == 1:\n",
    "    incomeLevel = \"medium\"\n",
    "elif predict[3][0] == 2:\n",
    "    incomeLevel = \"high\" \n",
    "    \n",
    "if rtransport == [0 , 0, 1]:\n",
    "    transport = \"train\"\n",
    "elif rtransport == [0 , 1, 0]:\n",
    "    transport = \"bus\"\n",
    "elif rtransport == [1 , 0, 0]:\n",
    "    transport = \"car\"\n",
    "    \n",
    "transportMode = \"%s that owns %s, willing to pay %s travel cost and has %s income level : Recommended transport is %s \\n\"% (gender,carOwnership,travelCost,incomeLevel,transport)\n",
    "\n",
    "data = {'gender': gender, 'carOwnership': carOwnership,  'travelCost': travelCost, 'incomeLevel': incomeLevel, 'transport': transport} \n",
    "df = pd.DataFrame(data,\n",
    "                  columns=[\"gender\", \"carOwnership\", \"travelCost\", \"incomeLevel\", \"transport\"],\n",
    "                  index=[0])\n",
    "\n",
    "df.to_csv('transport.csv', header=True)\n",
    "print(transportMode)"
   ],
   "metadata": {
    "collapsed": false,
    "pycharm": {
     "name": "#%%\n",
     "is_executing": false
    }
   }
  },
  {
   "cell_type": "code",
   "execution_count": null,
   "outputs": [],
   "source": [
    "#problem4 /////\n",
    "\n",
    "iris = load_iris()\n",
    "epochs = 5000\n",
    "predict = np.array([[6.4],[2.7],[5.3], [1.9]])\n",
    "input_data = iris.data\n",
    "training_output = iris.target\n",
    "new_output = list()\n",
    "\n",
    "for i in training_output:\n",
    "    if i == 0:\n",
    "        new_output.append([1,0,0])\n",
    "    elif i == 1:\n",
    "        new_output.append([0,1,0])\n",
    "    else:\n",
    "        new_output.append([0,0,1])\n",
    "\n",
    "training_output = np.array(new_output)\n",
    "\n",
    "problem4 = MultyLayerNetwork(4,4,3, input_data, training_output)\n",
    "\n",
    "problem4.train(epochs,0.05)\n",
    "\n",
    "flower = problem4.predict_multiple(predict)\n",
    "\n",
    "if flower == [1,0,0]:\n",
    "    print(\"Iris-Setosa\")\n",
    "elif flower == [0,1,0]:\n",
    "    print(\"Iris-Versicolour\")\n",
    "elif flower == [0,0,1]:\n",
    "    print(\"Iris-Virginica\")\n",
    "else:\n",
    "    print(\"Could not identify flower\")"
   ],
   "metadata": {
    "collapsed": false,
    "pycharm": {
     "name": "#%%\n",
     "is_executing": false
    }
   }
  }
 ],
 "metadata": {
  "kernelspec": {
   "display_name": "Python 3",
   "language": "python",
   "name": "python3"
  },
  "language_info": {
   "codemirror_mode": {
    "name": "ipython",
    "version": 3
   },
   "file_extension": ".py",
   "mimetype": "text/x-python",
   "name": "python",
   "nbconvert_exporter": "python",
   "pygments_lexer": "ipython3",
   "version": "3.7.0"
  },
  "pycharm": {
   "stem_cell": {
    "cell_type": "raw",
    "source": [],
    "metadata": {
     "collapsed": false
    }
   }
  }
 },
 "nbformat": 4,
 "nbformat_minor": 4
}